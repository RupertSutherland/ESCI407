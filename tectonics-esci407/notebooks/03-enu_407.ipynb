{
 "cells": [
  {
   "cell_type": "markdown",
   "id": "6d02f295",
   "metadata": {},
   "source": [
    "# How the ENU_407.py module works\n",
    "\n",
    "The `enu_407.py` module contains functions that allow you to focus on science rather than python.\n",
    "\n",
    "## ENU coordinates\n",
    "\n",
    "The ENU coordinate system refers to the convention that $x=east, y=north, z=up$.  \n",
    "<img src=\"ENU_coordinates.jpg\" align=\"left\" width=250/>  "
   ]
  },
  {
   "cell_type": "code",
   "execution_count": 1,
   "id": "46ddde04",
   "metadata": {},
   "outputs": [],
   "source": [
    "import numpy as np\n",
    "np.set_printoptions(suppress=True, precision=6, floatmode='fixed')\n",
    "\n",
    "import matplotlib.pyplot as plt\n",
    "\n",
    "import enu_407 as enu"
   ]
  },
  {
   "cell_type": "markdown",
   "id": "e7c412b3",
   "metadata": {},
   "source": [
    "## Lines and planes\n",
    "\n",
    "Functions are provided that convert observations of planes (strike,dip) and lines (plunge,trend) into unit direction vectors.  \n",
    "For a plane, the direction is perpendicular (normal) to the plane.  \n",
    "Try experimenting with some different orientations to build intuition.  \n",
    "  \n",
    "We are using arrays of vectors **$v_i$** $=[x_i,y_i,z_i]$ with structure something like  \n",
    "`[[x0,x1,x2,...xn],\n",
    "  [y0,y1,y2,...yn],\n",
    "  [z0,z1,z2,...zn]]`  \n",
    "i.e. we organize the vectors as columns."
   ]
  },
  {
   "cell_type": "code",
   "execution_count": 2,
   "id": "7eb122e8",
   "metadata": {},
   "outputs": [
    {
     "name": "stdout",
     "output_type": "stream",
     "text": [
      "Column vectors for lines:\n",
      " [[ 0.017450  0.000305 -0.017450 -0.000305]\n",
      " [ 0.999695  0.017450 -0.999695 -0.017450]\n",
      " [-0.017452 -0.999848 -0.017452 -0.999848]] \n",
      "\n",
      "Column vectors for planes:\n",
      " [[ 1.000000  0.866025  0.500000  0.000000]\n",
      " [ 0.000000  0.000000  0.000000  0.000000]\n",
      " [-0.000000  0.500000  0.866025  1.000000]]\n"
     ]
    }
   ],
   "source": [
    "# create lists (array-like) of values\n",
    "plunge = [1,89,1,89]\n",
    "trend = [1,1,181,181]\n",
    "vLines = enu.dirVecLine(plunge,trend)\n",
    "print(\"Column vectors for lines:\\n\", vLines,\"\\n\")\n",
    "\n",
    "strike = [0,0,0,0]\n",
    "dip = [90,60,30,0]\n",
    "vPlane = enu.dirVecPlane(strike,dip)\n",
    "print(\"Column vectors for planes:\\n\", vPlane)\n"
   ]
  },
  {
   "cell_type": "markdown",
   "id": "056693be",
   "metadata": {},
   "source": [
    "## Vector utilities\n",
    " \n",
    "It is convenient to have functions that manage basic operations such as magnitude (length) and dot product.  \n",
    "  \n",
    "Consider two vectors  \n",
    "**u** $=[u_x,u_y,u_z]$, **v** $=[v_x,v_y,v_z]$\n",
    "\n",
    "### Magnitude \n",
    "The magnitude of a vector is simply its length.    \n",
    "|**u**| $=\\sqrt{u_x^2 + u_y^2 + u_z^2}$  \n",
    "Direction vectors have unit length.  \n",
    "\n",
    "### Dot product\n",
    "The dot product between two vectors is the product of the lengths projected onto either vector.  \n",
    "  \n",
    "**u**$\\cdot$**v** $=u_x v_x + u_y v_y + u_z v_z =$ |**u**| |**v**| $cos\\theta$  \n",
    "\n",
    "<img src=\"dot-product.jpg\" align=\"inline\" width=150/>   \n",
    "  \n",
    "  \n",
    "  \n",
    "For unit vectors, |**u**| $=$ |**v**| $=1$, it is a convenient way to find the cosine of the angle between the two directions."
   ]
  },
  {
   "cell_type": "code",
   "execution_count": 3,
   "id": "8dfdf770",
   "metadata": {},
   "outputs": [
    {
     "name": "stdout",
     "output_type": "stream",
     "text": [
      "[1.000000 1.000000 1.000000 1.000000]\n",
      "[ 0.017450 -0.499660 -0.023839 -0.999848]\n"
     ]
    }
   ],
   "source": [
    "# the lengths should all be 1\n",
    "print(enu.vecMagnitude(vLines))\n",
    "\n",
    "# dot products depend on angles between the vectors\n",
    "print(enu.vecDotProduct(vLines,vPlane))"
   ]
  },
  {
   "cell_type": "markdown",
   "id": "955f8484",
   "metadata": {},
   "source": [
    "## 3D stress tensor\n",
    "The function `makeStressTensor(SHmin,SHmax,SV,azimuth_SHmax)` returns a 3x3 matrix (stress tensor), given the principal stress magnitudes and azimuth of the maximum horizontal principal stress.  \n",
    "\n",
    "It does it by first constructing a diagonal matrix using `stressTensorDiagonal(sigma_E, sigma_N, sigma_U)` and then rotating it about a vertical axis using `rotationMatrixAroundZ(angle)`.\n",
    "\n",
    "**Example.** A reverse-faulting regime at 4 km depth.  \n",
    "$\\sigma_v = \\sigma_3 = 67$ MPa, $\\sigma_2 = 190$ MPa, $\\sigma_1 = 312$ MPa.  \n",
    "The azimuth of SHmax is 090&deg;, i.e. due east.  \n",
    "\n",
    "<img src=\"MohrGraphPaper3-pexam-A-ANSWER.jpg\" align=\"inline\" width=700/>   \n",
    "  \n",
    "Experiment to build intuition with what a stress tensor looks like."
   ]
  },
  {
   "cell_type": "code",
   "execution_count": 4,
   "id": "e0785541",
   "metadata": {},
   "outputs": [
    {
     "name": "stdout",
     "output_type": "stream",
     "text": [
      "[[312.000000   0.000000   0.000000]\n",
      " [  0.000000 190.000000   0.000000]\n",
      " [  0.000000   0.000000  67.000000]]\n"
     ]
    }
   ],
   "source": [
    "SV = 67.0\n",
    "SHmin = 190.0\n",
    "SHmax = 312.0\n",
    "azimuth_SHmax = 90.0\n",
    "\n",
    "stressTensor = enu.makeStressTensor(SHmin,SHmax,SV,azimuth_SHmax)\n",
    "\n",
    "print(stressTensor)"
   ]
  },
  {
   "cell_type": "markdown",
   "id": "f8c07c2b",
   "metadata": {},
   "source": [
    "## Tractions and failure  \n",
    "The stress tensor **S** is used to calculate the traction vector **T** on a plane defined by normal vector **n**.      \n",
    "\n",
    "<img src=\"StressOnPlane2.jpg\" align=\"inline\" width=120/>   \n",
    "\n",
    "**T** $=$ **S** $\\cdot$ **n**  \n",
    "The normal stress magnitude $\\sigma_N = $**T** $\\cdot$ **n**   \n",
    "The shear stress vector $\\boldsymbol{\\tau} =$ **T** $- \\sigma_N$ **n**  \n",
    "The shear stress magnitude = |$\\boldsymbol{\\tau}$|\n",
    "\n",
    "### Coulomb failure criterion\n",
    "For completeness a function returning the Coulomb failure criterion for given parameters and normal stress is also provided.  \n"
   ]
  },
  {
   "cell_type": "code",
   "execution_count": 9,
   "id": "428a803a",
   "metadata": {},
   "outputs": [
    {
     "data": {
      "image/png": "[encoded data removed]",
      "text/plain": [
       "<Figure size 360x360 with 1 Axes>"
      ]
     },
     "metadata": {
      "needs_background": "light"
     },
     "output_type": "display_data"
    }
   ],
   "source": [
    "# Failure criterion\n",
    "cohesion = 30.0\n",
    "coefficientFriction = 0.6\n",
    "normalStressAll = np.linspace(0,350,2000)\n",
    "shearStrengthAll = enu.strengthCoulomb(cohesion,coefficientFriction,normalStressAll)\n",
    "\n",
    "# Use stress tensor above\n",
    "# for E-W stress state draw Mohr circle\n",
    "azimuth = 0.0\n",
    "strike = np.ones(1000) * azimuth\n",
    "dip = np.linspace(0,90,1000)\n",
    "planes = enu.dirVecPlane(strike,dip)\n",
    "normalStress,shearStress = enu.stressOnPlane(stressTensor,planes)\n",
    "shearStrength = enu.strengthCoulomb(cohesion,coefficientFriction,normalStress)\n",
    "slipTendency = shearStress / shearStrength\n",
    "\n",
    "# Plot\n",
    "plt.figure(figsize=[5,5])\n",
    "plt.scatter(normalStress,shearStress,\n",
    "            c=slipTendency,cmap='coolwarm',s=100)\n",
    "plt.plot(normalStress,shearStress,c='black')\n",
    "plt.plot(normalStressAll,shearStrengthAll,\n",
    "         color='black',linestyle='--')\n",
    "plt.xlim([0,350])\n",
    "plt.ylim([0,350])\n",
    "plt.xlabel('Normal Stress (MPa)')\n",
    "plt.ylabel('Shear Stress (MPa)')\n",
    "plt.savefig('../figs/mohrDiagram.jpg',dpi=300)\n",
    "plt.show()"
   ]
  }
 ],
 "metadata": {
  "kernelspec": {
   "display_name": "Python 3 (ipykernel)",
   "language": "python",
   "name": "python3"
  },
  "language_info": {
   "codemirror_mode": {
    "name": "ipython",
    "version": 3
   },
   "file_extension": ".py",
   "mimetype": "text/x-python",
   "name": "python",
   "nbconvert_exporter": "python",
   "pygments_lexer": "ipython3",
   "version": "3.7.12"
  }
 },
 "nbformat": 4,
 "nbformat_minor": 5
}
